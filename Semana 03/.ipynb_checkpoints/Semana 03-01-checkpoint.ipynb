{
 "cells": [
  {
   "cell_type": "markdown",
   "id": "319fe644",
   "metadata": {},
   "source": [
    "# Semana03\n",
    "Jaime Giancarlo Matheus Guerra\n"
   ]
  },
  {
   "cell_type": "raw",
   "id": "54bd002f",
   "metadata": {},
   "source": [
    "Temas: \n",
    "    1. Número\n",
    "    2. Variables\n",
    "    3. Manejo de cadenas\n",
    "    4. Ingreso de datos por teclado\n",
    "    5. Operadores \n",
    "    "
   ]
  },
  {
   "cell_type": "markdown",
   "id": "75dae50a",
   "metadata": {},
   "source": [
    "1. Número"
   ]
  },
  {
   "cell_type": "code",
   "execution_count": 1,
   "id": "dd0b0dba",
   "metadata": {},
   "outputs": [
    {
     "data": {
      "text/plain": [
       "14"
      ]
     },
     "execution_count": 1,
     "metadata": {},
     "output_type": "execute_result"
    }
   ],
   "source": [
    "9+5"
   ]
  },
  {
   "cell_type": "code",
   "execution_count": 3,
   "id": "b8ca1d1b",
   "metadata": {},
   "outputs": [
    {
     "data": {
      "text/plain": [
       "72"
      ]
     },
     "execution_count": 3,
     "metadata": {},
     "output_type": "execute_result"
    }
   ],
   "source": [
    "8*9"
   ]
  },
  {
   "cell_type": "code",
   "execution_count": 4,
   "id": "9ade6751",
   "metadata": {},
   "outputs": [
    {
     "data": {
      "text/plain": [
       "5.625"
      ]
     },
     "execution_count": 4,
     "metadata": {},
     "output_type": "execute_result"
    }
   ],
   "source": [
    "45/8"
   ]
  },
  {
   "cell_type": "code",
   "execution_count": null,
   "id": "99b2bbdf",
   "metadata": {},
   "outputs": [],
   "source": []
  }
 ],
 "metadata": {
  "kernelspec": {
   "display_name": "Python 3 (ipykernel)",
   "language": "python",
   "name": "python3"
  },
  "language_info": {
   "codemirror_mode": {
    "name": "ipython",
    "version": 3
   },
   "file_extension": ".py",
   "mimetype": "text/x-python",
   "name": "python",
   "nbconvert_exporter": "python",
   "pygments_lexer": "ipython3",
   "version": "3.9.12"
  }
 },
 "nbformat": 4,
 "nbformat_minor": 5
}
