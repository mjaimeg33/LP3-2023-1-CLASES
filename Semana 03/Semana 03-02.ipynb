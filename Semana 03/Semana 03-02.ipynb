{
 "cells": [
  {
   "cell_type": "markdown",
   "id": "b1e840db",
   "metadata": {},
   "source": [
    "# Semana 03"
   ]
  },
  {
   "cell_type": "raw",
   "id": "44ad273e",
   "metadata": {},
   "source": [
    "Temas:\n",
    "    1. Números\n",
    "    2. Variables\n",
    "    3. Manejo de cadenas\n",
    "    4. Ingreso de Datos pro teclado\n",
    "    5. Operadores"
   ]
  },
  {
   "cell_type": "markdown",
   "id": "04b3eb24",
   "metadata": {},
   "source": [
    "2. Variables"
   ]
  },
  {
   "cell_type": "code",
   "execution_count": 3,
   "id": "0eb923f8",
   "metadata": {},
   "outputs": [],
   "source": [
    "#Siempre deben iniciar con una letra o un guión abajo. (Nunca con número u otro símbolo)"
   ]
  },
  {
   "cell_type": "code",
   "execution_count": 4,
   "id": "248b0c74",
   "metadata": {},
   "outputs": [],
   "source": [
    "edad = 19 "
   ]
  },
  {
   "cell_type": "code",
   "execution_count": 5,
   "id": "786e65f7",
   "metadata": {},
   "outputs": [
    {
     "data": {
      "text/plain": [
       "19"
      ]
     },
     "execution_count": 5,
     "metadata": {},
     "output_type": "execute_result"
    }
   ],
   "source": [
    "edad"
   ]
  },
  {
   "cell_type": "code",
   "execution_count": 13,
   "id": "3dec603e",
   "metadata": {},
   "outputs": [
    {
     "data": {
      "text/plain": [
       "'Jaime'"
      ]
     },
     "execution_count": 13,
     "metadata": {},
     "output_type": "execute_result"
    }
   ],
   "source": [
    "nombre = \"Jaime\"\n",
    "nombre"
   ]
  },
  {
   "cell_type": "code",
   "execution_count": 11,
   "id": "8a903f14",
   "metadata": {},
   "outputs": [
    {
     "data": {
      "text/plain": [
       "'Matheus Guerra'"
      ]
     },
     "execution_count": 11,
     "metadata": {},
     "output_type": "execute_result"
    }
   ],
   "source": [
    "apellido = 'Matheus Guerra'\n",
    "apellido"
   ]
  },
  {
   "cell_type": "code",
   "execution_count": 16,
   "id": "5e2828c8",
   "metadata": {},
   "outputs": [
    {
     "data": {
      "text/plain": [
       "'Jaime Matheus Guerra'"
      ]
     },
     "execution_count": 16,
     "metadata": {},
     "output_type": "execute_result"
    }
   ],
   "source": [
    "nombrecompleto = nombre +\" \"+ apellido\n",
    "nombrecompleto"
   ]
  },
  {
   "cell_type": "code",
   "execution_count": 24,
   "id": "981cca25",
   "metadata": {},
   "outputs": [
    {
     "data": {
      "text/plain": [
       "str"
      ]
     },
     "execution_count": 24,
     "metadata": {},
     "output_type": "execute_result"
    }
   ],
   "source": [
    "# Para saber el tipo de variable utilizamos la función type()\n",
    "#Por ejemplo \n",
    "type(nombre)"
   ]
  },
  {
   "cell_type": "code",
   "execution_count": 27,
   "id": "21524eb4",
   "metadata": {},
   "outputs": [],
   "source": [
    "# Para vonvertir un número en cadena utilizamos str()\n",
    "numero = 100 \n",
    "cadena = str(numero)"
   ]
  },
  {
   "cell_type": "code",
   "execution_count": 28,
   "id": "63584339",
   "metadata": {},
   "outputs": [
    {
     "data": {
      "text/plain": [
       "'100'"
      ]
     },
     "execution_count": 28,
     "metadata": {},
     "output_type": "execute_result"
    }
   ],
   "source": [
    "cadena"
   ]
  },
  {
   "cell_type": "code",
   "execution_count": 29,
   "id": "ab78bf5a",
   "metadata": {},
   "outputs": [
    {
     "data": {
      "text/plain": [
       "str"
      ]
     },
     "execution_count": 29,
     "metadata": {},
     "output_type": "execute_result"
    }
   ],
   "source": [
    "type(cadena)"
   ]
  },
  {
   "cell_type": "code",
   "execution_count": 30,
   "id": "16d447b6",
   "metadata": {},
   "outputs": [
    {
     "data": {
      "text/plain": [
       "50"
      ]
     },
     "execution_count": 30,
     "metadata": {},
     "output_type": "execute_result"
    }
   ],
   "source": [
    "#Para convertir una cadena en un entero\n",
    "cadena2 = '50'\n",
    "entero = int(cadena2)\n",
    "entero"
   ]
  },
  {
   "cell_type": "code",
   "execution_count": 31,
   "id": "ac710a68",
   "metadata": {},
   "outputs": [
    {
     "data": {
      "text/plain": [
       "int"
      ]
     },
     "execution_count": 31,
     "metadata": {},
     "output_type": "execute_result"
    }
   ],
   "source": [
    "type(entero)"
   ]
  },
  {
   "cell_type": "code",
   "execution_count": 32,
   "id": "e03e663f",
   "metadata": {},
   "outputs": [],
   "source": [
    "# para convertir un decimal utilizamos float()\n",
    "\n",
    "cadena3 = 50 \n",
    "flotante = float(cadena3)"
   ]
  },
  {
   "cell_type": "code",
   "execution_count": 33,
   "id": "6ab3af62",
   "metadata": {},
   "outputs": [
    {
     "data": {
      "text/plain": [
       "50.0"
      ]
     },
     "execution_count": 33,
     "metadata": {},
     "output_type": "execute_result"
    }
   ],
   "source": [
    "flotante"
   ]
  },
  {
   "cell_type": "code",
   "execution_count": 34,
   "id": "7cf02e7f",
   "metadata": {},
   "outputs": [
    {
     "data": {
      "text/plain": [
       "float"
      ]
     },
     "execution_count": 34,
     "metadata": {},
     "output_type": "execute_result"
    }
   ],
   "source": [
    "type(flotante\n",
    ")"
   ]
  },
  {
   "cell_type": "code",
   "execution_count": null,
   "id": "c0fc98d4",
   "metadata": {},
   "outputs": [],
   "source": []
  }
 ],
 "metadata": {
  "kernelspec": {
   "display_name": "Python 3 (ipykernel)",
   "language": "python",
   "name": "python3"
  },
  "language_info": {
   "codemirror_mode": {
    "name": "ipython",
    "version": 3
   },
   "file_extension": ".py",
   "mimetype": "text/x-python",
   "name": "python",
   "nbconvert_exporter": "python",
   "pygments_lexer": "ipython3",
   "version": "3.9.12"
  }
 },
 "nbformat": 4,
 "nbformat_minor": 5
}
